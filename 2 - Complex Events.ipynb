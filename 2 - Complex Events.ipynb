{
 "cells": [
  {
   "cell_type": "markdown",
   "metadata": {},
   "source": [
    "# Complex sample spaces\n",
    "\n",
    "So far, we only looked at sample spaces where an outcome is a single unit (rolling a single die, choosing one card from a set of cards). Oftentimes, an outcome (a single *pepple*) consists of ***several components***, the sequence of outcomes from several trials that are parts of the experiment. Thus, \"HTTHT\" can represent the outcome of drawing 5 coins.\n",
    "\n",
    "When an outcome involves more than a single unit, we call them complex sample spaces. \n",
    "\n",
    "### Generating the sample space\n",
    "\n",
    "Now, suppose you are given two dice. \n",
    "\n",
    "- What is an example *outcome*?\n",
    "- What is an example *event*?\n",
    "- Generate the sample space for the experiment. How large is the sample space?"
   ]
  },
  {
   "cell_type": "code",
   "execution_count": 15,
   "metadata": {
    "collapsed": false
   },
   "outputs": [
    {
     "data": {
      "text/plain": [
       "{(1, 1),\n",
       " (1, 2),\n",
       " (1, 3),\n",
       " (1, 4),\n",
       " (1, 5),\n",
       " (1, 6),\n",
       " (2, 1),\n",
       " (2, 2),\n",
       " (2, 3),\n",
       " (2, 4),\n",
       " (2, 5),\n",
       " (2, 6),\n",
       " (3, 1),\n",
       " (3, 2),\n",
       " (3, 3),\n",
       " (3, 4),\n",
       " (3, 5),\n",
       " (3, 6),\n",
       " (4, 1),\n",
       " (4, 2),\n",
       " (4, 3),\n",
       " (4, 4),\n",
       " (4, 5),\n",
       " (4, 6),\n",
       " (5, 1),\n",
       " (5, 2),\n",
       " (5, 3),\n",
       " (5, 4),\n",
       " (5, 5),\n",
       " (5, 6),\n",
       " (6, 1),\n",
       " (6, 2),\n",
       " (6, 3),\n",
       " (6, 4),\n",
       " (6, 5),\n",
       " (6, 6)}"
      ]
     },
     "execution_count": 15,
     "metadata": {},
     "output_type": "execute_result"
    }
   ],
   "source": [
    "### your code here\n",
    "S=set()\n",
    "for first in range(1,6+1):\n",
    "    for second in range(1,6+1):\n",
    "        S.add((first,second))\n",
    "S  \n",
    "        "
   ]
  },
  {
   "cell_type": "markdown",
   "metadata": {},
   "source": [
    "- calculate the probability that the dice turn up with the same digit.\n",
    "- Calculate the probability that at least one of the dice comes up greater than 1? (hint: think about the complement)\n",
    "\n"
   ]
  },
  {
   "cell_type": "code",
   "execution_count": 17,
   "metadata": {
    "collapsed": false
   },
   "outputs": [
    {
     "name": "stdout",
     "output_type": "stream",
     "text": [
      "0.16666666666666666\n",
      "0.16666666666666666\n"
     ]
    },
    {
     "data": {
      "text/plain": [
       "0.9722222222222222"
      ]
     },
     "execution_count": 17,
     "metadata": {},
     "output_type": "execute_result"
    }
   ],
   "source": [
    "## with for loop\n",
    "count_success = 0\n",
    "for (d1,d2) in S:\n",
    "    if d1==d2:\n",
    "        count_success += 1\n",
    "print(count_success/len(S))\n",
    "\n",
    "## alternative with list comprehension\n",
    "same_digit = [(d1,d2) for (d1,d2) in S if d1==d2]\n",
    "prob=len(same_digit)/len(S)\n",
    "print(prob)\n",
    "\n",
    "# at least one die comes up greater than 1, use complement\n",
    "A = set([(1,1)])\n",
    "1 - len(A)/len(S)"
   ]
  },
  {
   "cell_type": "markdown",
   "metadata": {},
   "source": [
    "## Job hunting"
   ]
  },
  {
   "cell_type": "markdown",
   "metadata": {},
   "source": [
    "Rita just finished her studies. She is applying for jobs at three places. She categorizes her job interview as a success (S) or failure (F) depending on whether or not the interview leads to a job offer. \n",
    "\n",
    "An outcome of this experiment can be seen as $(x,y,z)$, where $x,y,z$ is the result of the job interviews at place one, two and three, respectively.\n"
   ]
  },
  {
   "cell_type": "markdown",
   "metadata": {},
   "source": [
    "- set up the sample space $S$ for the experiment, i.e., generate the sample space (Hint: use `for`-loops)"
   ]
  },
  {
   "cell_type": "code",
   "execution_count": 4,
   "metadata": {
    "collapsed": false
   },
   "outputs": [
    {
     "data": {
      "text/plain": [
       "{('F', 'F', 'F'),\n",
       " ('F', 'F', 'S'),\n",
       " ('F', 'S', 'F'),\n",
       " ('F', 'S', 'S'),\n",
       " ('S', 'F', 'F'),\n",
       " ('S', 'F', 'S'),\n",
       " ('S', 'S', 'F'),\n",
       " ('S', 'S', 'S')}"
      ]
     },
     "execution_count": 4,
     "metadata": {},
     "output_type": "execute_result"
    }
   ],
   "source": [
    "S=set()\n",
    "values=[\"S\",\"F\"]\n",
    "for job1 in values:\n",
    "    for job2 in values:\n",
    "        for job3 in values:\n",
    "            S.add((job1,job2,job3))\n",
    "S    "
   ]
  },
  {
   "cell_type": "markdown",
   "metadata": {},
   "source": [
    "- calculate the sample size."
   ]
  },
  {
   "cell_type": "code",
   "execution_count": 5,
   "metadata": {
    "collapsed": false
   },
   "outputs": [
    {
     "data": {
      "text/plain": [
       "8"
      ]
     },
     "execution_count": 5,
     "metadata": {},
     "output_type": "execute_result"
    }
   ],
   "source": [
    "len(S)\n"
   ]
  },
  {
   "cell_type": "markdown",
   "metadata": {},
   "source": [
    "- what is the probability that she gets either the second or third job offered?\n"
   ]
  },
  {
   "cell_type": "code",
   "execution_count": 8,
   "metadata": {
    "collapsed": false
   },
   "outputs": [
    {
     "name": "stdout",
     "output_type": "stream",
     "text": [
      "F S F\n",
      "S S S\n",
      "S F S\n",
      "F F S\n",
      "F S S\n",
      "S S F\n",
      "6\n",
      "0.75\n"
     ]
    }
   ],
   "source": [
    "# second or third with for loops\n",
    "count_success=0\n",
    "for (j1,j2,j3) in S:\n",
    "    if j2 == 'S' or j3 == 'S':\n",
    "        count_success+=1\n",
    "print(count_success)\n",
    "print(count_success/len(S))"
   ]
  },
  {
   "cell_type": "markdown",
   "metadata": {},
   "source": [
    "- what is the probability that she gets exactly 2 job offers? (hint: use a dictionary to count)\n",
    "- what is the probability that she gets at least one job offer? "
   ]
  },
  {
   "cell_type": "code",
   "execution_count": 10,
   "metadata": {
    "collapsed": false
   },
   "outputs": [
    {
     "name": "stdout",
     "output_type": "stream",
     "text": [
      "('S', 'F', 'S') exactly 2 successes\n",
      "('F', 'S', 'S') exactly 2 successes\n",
      "('S', 'S', 'F') exactly 2 successes\n",
      "0.375\n"
     ]
    }
   ],
   "source": [
    "# exactly 2 \n",
    "count_success=0\n",
    "for outcome in S:\n",
    "    # first count \n",
    "    count={}\n",
    "    for t in outcome:\n",
    "        count[t] = count.get(t,0)+1\n",
    "    if count.get(\"S\") == 2:\n",
    "        print(outcome, \"exactly 2 successes\")\n",
    "        count_success+=1\n",
    "print(count_success/len(S))"
   ]
  },
  {
   "cell_type": "code",
   "execution_count": 12,
   "metadata": {
    "collapsed": false
   },
   "outputs": [
    {
     "name": "stdout",
     "output_type": "stream",
     "text": [
      "('F', 'S', 'F') at least 1 success\n",
      "('S', 'S', 'S') at least 1 success\n",
      "('S', 'F', 'S') at least 1 success\n",
      "('F', 'F', 'S') at least 1 success\n",
      "('F', 'S', 'S') at least 1 success\n",
      "('S', 'F', 'F') at least 1 success\n",
      "('S', 'S', 'F') at least 1 success\n",
      "0.875\n"
     ]
    }
   ],
   "source": [
    "# at least 1 offer\n",
    "count_success=0\n",
    "for outcome in S:\n",
    "    count={}\n",
    "    for t in outcome:\n",
    "        count[t] = count.get(t,0)+1\n",
    "    if count.get(\"S\",0) >= 1:\n",
    "        count_success+=1\n",
    "        print(outcome,\"at least 1 success\")\n",
    "print(count_success/len(S))"
   ]
  },
  {
   "cell_type": "markdown",
   "metadata": {},
   "source": [
    "## Exercise: 10 dice\n",
    "\n",
    "\n",
    "So far we enumerated the entire sample space. However, they were pretty small, while they can get huge quickly. \n",
    "\n",
    "Imagine we throw 10 dice. What is an example outcome? What is the size of the sample space for this experiment?\n"
   ]
  },
  {
   "cell_type": "code",
   "execution_count": 13,
   "metadata": {
    "collapsed": false
   },
   "outputs": [
    {
     "data": {
      "text/plain": [
       "60466176"
      ]
     },
     "execution_count": 13,
     "metadata": {},
     "output_type": "execute_result"
    }
   ],
   "source": [
    "k=10\n",
    "n=6\n",
    "n**k"
   ]
  },
  {
   "cell_type": "markdown",
   "metadata": {
    "collapsed": true
   },
   "source": [
    "\n"
   ]
  }
 ],
 "metadata": {
  "kernelspec": {
   "display_name": "Python 3",
   "language": "python",
   "name": "python3"
  },
  "language_info": {
   "codemirror_mode": {
    "name": "ipython",
    "version": 3
   },
   "file_extension": ".py",
   "mimetype": "text/x-python",
   "name": "python",
   "nbconvert_exporter": "python",
   "pygments_lexer": "ipython3",
   "version": "3.3.5"
  }
 },
 "nbformat": 4,
 "nbformat_minor": 0
}
