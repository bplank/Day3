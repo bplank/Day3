{
 "cells": [
  {
   "cell_type": "markdown",
   "metadata": {},
   "source": [
    "## Conditional Probability\n",
    "\n",
    "Conditional probability addresses a fundamental question: how would you update your beliefs in lights of additional evidence that you observe? \n",
    "\n",
    "For example, you are rolling a single die, and you know that the roll of the die comes up odd. What is the probability that you get a 5? \n",
    "\n",
    "In probability notation, you want the probability of the event A = \"roll is a 5\" ***given*** the information B that the roll turned up odd. In other words, P(A|B). After you know that the roll turned up odd, you have only three possibilities: {$1,3,5$}, and each is equally likely. Therefore P(roll is 5|odd) = $1/3$ = $0.33$. \n",
    "\n",
    "Without this additional information, the probability of getting a 5 is much lower, i.e., P(roll is 5) = $1/6$ = $0.167$. Thus, knowing that some event happens can change the probability of an event, given this information.\n",
    "\n",
    "We can also use the formula to calculate the above conditional proability:"
   ]
  },
  {
   "cell_type": "markdown",
   "metadata": {},
   "source": [
    "$$ P(A|B) = \\frac{P(A \\cap B)}{P(B)}$$ "
   ]
  },
  {
   "cell_type": "markdown",
   "metadata": {},
   "source": [
    "That is, to derive the conditional probability $P(A|B)$, you take the ***joint*** probability $P(A \\cap B)$ (intersection) and divide by $P(B)$. \n",
    "\n",
    "$P(B) = 3/6$, since $B$ = {$1,3,5$}. The is the probability of the denominator. \n",
    "\n",
    "We probability of getting a 5 and an odd number is $P(A \\cap B)=1/6$. This is the nominator. \n",
    "\n",
    "Now we can calculate the conditional probability, i.e., \n",
    "$$P(A|B)$= 1/6 / 3/6 = 1/6 * 6/3 = 1/3 = $0.33$$. "
   ]
  },
  {
   "cell_type": "markdown",
   "metadata": {},
   "source": []
  },
  {
   "cell_type": "markdown",
   "metadata": {},
   "source": [
    "### Exercise: Students\n",
    "\n",
    "Suppose a class consists of 60% women. You also know that, of these women, 40% are married.\n",
    "\n",
    "- Draw the probability tree diagram\n",
    "- What is the chance that a person you select at random is a woman and married?\n"
   ]
  },
  {
   "cell_type": "code",
   "execution_count": 50,
   "metadata": {
    "collapsed": false
   },
   "outputs": [
    {
     "data": {
      "text/plain": [
       "0.24"
      ]
     },
     "execution_count": 50,
     "metadata": {},
     "output_type": "execute_result"
    }
   ],
   "source": [
    "prob_gender = {'f': 0.60, 'm': 0.40}\n",
    "prob_married_women  = 0.40\n",
    "\n",
    "# calculate the probability that a perseon at random is female and married (hint: multiplication rule)\n",
    "prob_joint = prob_married_women * prob_gender['f']\n",
    "prob_joint"
   ]
  },
  {
   "cell_type": "markdown",
   "metadata": {},
   "source": [
    "##### Hint: Multiplication rule\n",
    "\n",
    "You can use the multiplication rule to find the probability of the intersection of two events A and B. The multiplication rule can easily  be derived from the definition of *conditional probability*. \n",
    "\n",
    "Conditional probability:\n",
    "\n",
    "$$ P(A|B) = \\frac{P(A \\cap B)}{P(B)}$$ \n",
    "\n",
    "Multiplication rule:\n",
    "\n",
    "$$ P(A \\cap B) = P(A|B) * P(B)$$ "
   ]
  },
  {
   "cell_type": "code",
   "execution_count": null,
   "metadata": {
    "collapsed": true
   },
   "outputs": [],
   "source": []
  }
 ],
 "metadata": {
  "kernelspec": {
   "display_name": "Python 3",
   "language": "python",
   "name": "python3"
  },
  "language_info": {
   "codemirror_mode": {
    "name": "ipython",
    "version": 3
   },
   "file_extension": ".py",
   "mimetype": "text/x-python",
   "name": "python",
   "nbconvert_exporter": "python",
   "pygments_lexer": "ipython3",
   "version": "3.3.5"
  }
 },
 "nbformat": 4,
 "nbformat_minor": 0
}
