{
 "cells": [
  {
   "cell_type": "markdown",
   "metadata": {},
   "source": [
    "## Conditional Probability\n",
    "\n",
    "Conditional probability addresses a fundamental question: how would you update your beliefs in lights of additional evidence that you observe? \n",
    "\n",
    "We have seen an example. Suppose you are rolling a die, and you know that the roll comes up odd. What is the probability that you get a 5? \n",
    "\n",
    "Before knowing that the roll comes up odd, the chance of getting a 5 (event A = \"roll is a 5\") is $1/6$. However,  \n",
    " ***given*** the information that the roll turned up odd (B), only three possibilities are left: {$1,3,5$}, and each is equally likely. Therefore P(roll is 5|odd) = $1/3$ = $0.33$. \n",
    "\n",
    "Thus, knowing that some event happens can change the probability of an event, given this information.\n",
    "\n",
    "<img src=\"conditional.png\" width=400px>\n",
    "\n",
    "We can also use the formula to calculate the above conditional proability:"
   ]
  },
  {
   "cell_type": "markdown",
   "metadata": {},
   "source": [
    "$$ P(A|B) = \\frac{P(A \\cap B)}{P(B)}$$ "
   ]
  },
  {
   "cell_type": "markdown",
   "metadata": {},
   "source": [
    "### Exercise: Students\n",
    "\n",
    "In the email (spam/not-spam) example we have seen that pebbles can be of different size, meaning that an not all outcomes are equally likely. Suppose we interview students and record their gender and whether they are married. We store the observations in a list.\n",
    "\n"
   ]
  },
  {
   "cell_type": "code",
   "execution_count": 11,
   "metadata": {
    "collapsed": true
   },
   "outputs": [],
   "source": [
    "observations=[(\"f\",\"married\"),(\"f\",\"not_married\"),(\"m\",\"not_married\"),(\"f\",\"married\"),(\"m\",\"not_married\"),(\"m\",\"married\"),(\"f\",\"married\"),]"
   ]
  },
  {
   "cell_type": "markdown",
   "metadata": {
    "collapsed": true
   },
   "source": [
    "Given the list of observations, we want to calculate a range of probabilities. \n",
    "\n",
    "- What is the percentage of women in the sample?  (hint: create a dictionary)\n",
    "- Of these women, what is the percentage of women that are married?\n",
    "- Draw the complete probability tree diagram with numbers based on the sample below\n",
    "\n",
    "After you have the completed the diagram:\n",
    "\n",
    "- What is the chance that a person you select at random is a woman and married?\n"
   ]
  },
  {
   "cell_type": "code",
   "execution_count": 12,
   "metadata": {
    "collapsed": false
   },
   "outputs": [
    {
     "name": "stdout",
     "output_type": "stream",
     "text": [
      "{'f': 0.5714285714285714, 'm': 0.42857142857142855}\n"
     ]
    }
   ],
   "source": [
    "# calculate the proportion of female and males in the sample (hint: use a dictionary)\n",
    "gender={}\n",
    "for (sex,martial_status) in observations:\n",
    "    gender[sex] = gender.get(sex,0)+1\n",
    "for sex in gender.keys():\n",
    "    gender[sex] = gender[sex]/len(observations)\n",
    "print(gender)"
   ]
  },
  {
   "cell_type": "code",
   "execution_count": 10,
   "metadata": {
    "collapsed": false
   },
   "outputs": [
    {
     "name": "stdout",
     "output_type": "stream",
     "text": [
      "0.14285714285714285\n",
      "{('f', 'married'): 3}\n"
     ]
    }
   ],
   "source": [
    "# percentage of women that are married [what probability is this?]\n",
    "married_women={}\n",
    "for (sex,martial_status) in observations:\n",
    "    if sex == 'f' and martial_status == 'married':\n",
    "        married_women[(sex,martial_status)]= married_women.get((sex,martial_status),0)+1\n",
    "prob_married_women = len(married_women)/len(observations)\n",
    "print(prob_married_women)\n",
    "print(married_women)"
   ]
  },
  {
   "cell_type": "code",
   "execution_count": 9,
   "metadata": {
    "collapsed": false
   },
   "outputs": [
    {
     "data": {
      "text/plain": [
       "0.08163265306122448"
      ]
     },
     "execution_count": 9,
     "metadata": {},
     "output_type": "execute_result"
    }
   ],
   "source": [
    "# calculate the probability that a person selected at random is female and married (hint: multiplication rule)\n",
    "prob_joint = prob_married_women * gender['f']\n",
    "prob_joint"
   ]
  },
  {
   "cell_type": "markdown",
   "metadata": {
    "collapsed": true
   },
   "source": [
    "Depict the experiment as a pebble world. How many pepples (outcomes) are there? What do they represent? What is their 'weight' (probability)?"
   ]
  },
  {
   "cell_type": "code",
   "execution_count": null,
   "metadata": {
    "collapsed": true
   },
   "outputs": [],
   "source": []
  }
 ],
 "metadata": {
  "kernelspec": {
   "display_name": "Python 3",
   "language": "python",
   "name": "python3"
  },
  "language_info": {
   "codemirror_mode": {
    "name": "ipython",
    "version": 3
   },
   "file_extension": ".py",
   "mimetype": "text/x-python",
   "name": "python",
   "nbconvert_exporter": "python",
   "pygments_lexer": "ipython3",
   "version": "3.3.5"
  }
 },
 "nbformat": 4,
 "nbformat_minor": 0
}
