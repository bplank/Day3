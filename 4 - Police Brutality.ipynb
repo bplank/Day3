{
 "cells": [
  {
   "cell_type": "markdown",
   "metadata": {},
   "source": [
    "#Cold hard stats\n",
    "Lately, several cases of police brutality have come to light in the US. These cases seem to be related to the victim's ethnicity, and have raised a lot of questions about prejudice.\n",
    "\n",
    "Probabilities can help us understand whether and what relations exist between ethnicicty and cause of death, for example. The data comes from <a href=\"http://fivethirtyeight.com/features/where-police-have-killed-americans-in-2015/\">fivethirtyeight.com</a>."
   ]
  },
  {
   "cell_type": "code",
   "execution_count": 2,
   "metadata": {
    "collapsed": true
   },
   "outputs": [],
   "source": [
    "sample = [('Black', 'Gunshot'), ('White', 'Gunshot'), ('White', 'Gunshot'), ('Hispanic/Latino', 'Gunshot'), ('White', 'Gunshot'), ('White', 'Gunshot'), ('Hispanic/Latino', 'Gunshot'), ('Hispanic/Latino', 'Gunshot'), ('White', 'Gunshot'), ('White', 'Gunshot'), ('White', 'Gunshot'), ('White', 'Gunshot'), ('Hispanic/Latino', 'Gunshot'), ('White', 'Gunshot'), ('White', 'Gunshot'), ('Hispanic/Latino', 'Gunshot'), ('Black', 'Gunshot'), ('Hispanic/Latino', 'Gunshot'), ('White', 'Gunshot'), ('Black', 'Death in custody'), ('Hispanic/Latino', 'Gunshot'), ('Black', 'Death in custody'), ('Hispanic/Latino', 'Gunshot'), ('White', 'Gunshot'), ('White', 'Gunshot'), ('White', 'Gunshot'), ('White', 'Gunshot'), ('White', 'Gunshot'), ('Black', 'Gunshot'), ('Hispanic/Latino', 'Gunshot'), ('Hispanic/Latino', 'Gunshot'), ('Black', 'Gunshot'), ('Black', 'Gunshot'), ('Black', 'Gunshot'), ('Hispanic/Latino', 'Gunshot'), ('Black', 'Gunshot'), ('Black', 'Gunshot'), ('White', 'Gunshot'), ('Hispanic/Latino', 'Gunshot'), ('Hispanic/Latino', 'Gunshot'), ('Black', 'Gunshot'), ('Black', 'Taser'), ('Hispanic/Latino', 'Gunshot'), ('White', 'Gunshot'), ('White', 'Gunshot'), ('Hispanic/Latino', 'Gunshot'), ('Hispanic/Latino', 'Gunshot'), ('White', 'Gunshot'), ('White', 'Gunshot'), ('White', 'Gunshot'), ('Black', 'Gunshot'), ('White', 'Gunshot'), ('Black', 'Gunshot'), ('White', 'Gunshot'), ('White', 'Gunshot'), ('Black', 'Gunshot'), ('White', 'Gunshot'), ('White', 'Gunshot'), ('Black', 'Taser'), ('White', 'Gunshot'), ('White', 'Gunshot'), ('Black', 'Gunshot'), ('Black', 'Taser'), ('Hispanic/Latino', 'Gunshot'), ('White', 'Gunshot'), ('White', 'Gunshot'), ('Black', 'Gunshot'), ('Black', 'Gunshot'), ('Hispanic/Latino', 'Gunshot'), ('White', 'Taser'), ('Black', 'Gunshot'), ('White', 'Gunshot'), ('White', 'Gunshot'), ('Black', 'Gunshot'), ('White', 'Gunshot'), ('White', 'Gunshot'), ('White', 'Gunshot'), ('White', 'Gunshot'), ('White', 'Gunshot'), ('White', 'Gunshot'), ('White', 'Gunshot'), ('Black', 'Gunshot'), ('White', 'Gunshot'), ('Black', 'Gunshot'), ('Black', 'Taser'), ('Black', 'Gunshot'), ('White', 'Gunshot'), ('Hispanic/Latino', 'Gunshot'), ('White', 'Gunshot'), ('Hispanic/Latino', 'Gunshot'), ('White', 'Gunshot'), ('White', 'Gunshot'), ('Hispanic/Latino', 'Gunshot'), ('Black', 'Gunshot'), ('Black', 'Gunshot'), ('Black', 'Taser'), ('Black', 'Taser'), ('White', 'Gunshot'), ('Black', 'Gunshot'), ('White', 'Gunshot'), ('Hispanic/Latino', 'Gunshot'), ('White', 'Gunshot'), ('Hispanic/Latino', 'Gunshot'), ('Hispanic/Latino', 'Gunshot'), ('White', 'Gunshot'), ('White', 'Taser'), ('White', 'Gunshot'), ('White', 'Taser'), ('White', 'Gunshot'), ('White', 'Gunshot'), ('White', 'Taser'), ('White', 'Gunshot'), ('White', 'Gunshot'), ('White', 'Gunshot'), ('Black', 'Gunshot'), ('Black', 'Gunshot'), ('Hispanic/Latino', 'Death in custody'), ('White', 'Gunshot'), ('Black', 'Gunshot'), ('White', 'Gunshot'), ('Black', 'Gunshot'), ('Black', 'Gunshot'), ('White', 'Gunshot'), ('Black', 'Gunshot'), ('Black', 'Gunshot'), ('Black', 'Gunshot'), ('Black', 'Gunshot'), ('Black', 'Taser'), ('Black', 'Gunshot'), ('Black', 'Taser'), ('White', 'Gunshot'), ('White', 'Gunshot'), ('Black', 'Gunshot'), ('Black', 'Gunshot'), ('White', 'Gunshot'), ('White', 'Gunshot'), ('Black', 'Gunshot'), ('Hispanic/Latino', 'Gunshot'), ('Black', 'Gunshot'), ('Hispanic/Latino', 'Gunshot'), ('Black', 'Gunshot'), ('Hispanic/Latino', 'Gunshot'), ('White', 'Gunshot'), ('Black', 'Gunshot'), ('White', 'Gunshot'), ('White', 'Gunshot'), ('Hispanic/Latino', 'Gunshot'), ('White', 'Gunshot'), ('Hispanic/Latino', 'Gunshot'), ('Hispanic/Latino', 'Gunshot'), ('White', 'Gunshot'), ('White', 'Gunshot'), ('Black', 'Gunshot'), ('Black', 'Gunshot'), ('White', 'Gunshot'), ('White', 'Gunshot'), ('White', 'Gunshot'), ('Black', 'Gunshot'), ('White', 'Gunshot'), ('Black', 'Death in custody'), ('White', 'Gunshot'), ('White', 'Gunshot'), ('White', 'Gunshot'), ('White', 'Gunshot'), ('White', 'Gunshot'), ('White', 'Gunshot'), ('White', 'Gunshot'), ('Black', 'Gunshot'), ('White', 'Gunshot'), ('White', 'Taser'), ('White', 'Gunshot'), ('White', 'Gunshot'), ('White', 'Gunshot'), ('Black', 'Gunshot'), ('Hispanic/Latino', 'Gunshot'), ('Black', 'Gunshot'), ('White', 'Gunshot'), ('Black', 'Gunshot'), ('Black', 'Gunshot'), ('Hispanic/Latino', 'Gunshot'), ('Hispanic/Latino', 'Gunshot'), ('White', 'Gunshot'), ('Black', 'Gunshot'), ('Black', 'Gunshot'), ('White', 'Gunshot'), ('White', 'Gunshot'), ('White', 'Gunshot'), ('White', 'Gunshot'), ('White', 'Gunshot'), ('White', 'Gunshot'), ('White', 'Gunshot'), ('Hispanic/Latino', 'Gunshot'), ('Black', 'Gunshot'), ('Black', 'Gunshot'), ('White', 'Gunshot'), ('Black', 'Gunshot'), ('White', 'Gunshot'), ('Black', 'Gunshot'), ('White', 'Gunshot'), ('White', 'Gunshot'), ('White', 'Gunshot'), ('Black', 'Gunshot'), ('White', 'Gunshot'), ('Black', 'Gunshot'), ('White', 'Gunshot'), ('Black', 'Gunshot'), ('Black', 'Gunshot'), ('White', 'Death in custody'), ('White', 'Gunshot'), ('White', 'Gunshot'), ('White', 'Gunshot'), ('Black', 'Gunshot'), ('Black', 'Gunshot'), ('Black', 'Gunshot'), ('Black', 'Gunshot'), ('White', 'Gunshot'), ('White', 'Gunshot'), ('Hispanic/Latino', 'Gunshot'), ('White', 'Gunshot'), ('Black', 'Gunshot'), ('Hispanic/Latino', 'Gunshot'), ('White', 'Gunshot'), ('White', 'Gunshot'), ('White', 'Gunshot'), ('White', 'Gunshot'), ('White', 'Gunshot'), ('Hispanic/Latino', 'Gunshot'), ('White', 'Gunshot'), ('Hispanic/Latino', 'Gunshot'), ('White', 'Gunshot'), ('White', 'Gunshot'), ('White', 'Gunshot'), ('White', 'Gunshot'), ('White', 'Gunshot'), ('Black', 'Death in custody'), ('White', 'Gunshot'), ('Hispanic/Latino', 'Gunshot'), ('Hispanic/Latino', 'Gunshot'), ('Hispanic/Latino', 'Gunshot'), ('White', 'Gunshot'), ('White', 'Gunshot'), ('White', 'Gunshot'), ('White', 'Gunshot'), ('White', 'Death in custody'), ('White', 'Gunshot'), ('White', 'Gunshot'), ('Hispanic/Latino', 'Gunshot'), ('Hispanic/Latino', 'Gunshot'), ('White', 'Gunshot'), ('White', 'Gunshot'), ('White', 'Gunshot'), ('Black', 'Gunshot'), ('White', 'Gunshot'), ('Black', 'Death in custody'), ('Black', 'Gunshot'), ('White', 'Gunshot'), ('Black', 'Gunshot'), ('White', 'Gunshot'), ('Black', 'Gunshot'), ('White', 'Gunshot'), ('Hispanic/Latino', 'Gunshot'), ('Black', 'Gunshot'), ('White', 'Gunshot'), ('White', 'Gunshot'), ('White', 'Gunshot'), ('Black', 'Gunshot'), ('White', 'Gunshot'), ('White', 'Gunshot'), ('White', 'Gunshot'), ('White', 'Gunshot'), ('White', 'Gunshot'), ('Black', 'Gunshot'), ('Black', 'Gunshot'), ('Black', 'Gunshot'), ('White', 'Gunshot'), ('White', 'Gunshot'), ('Black', 'Gunshot'), ('White', 'Gunshot'), ('Black', 'Death in custody'), ('Hispanic/Latino', 'Gunshot'), ('Hispanic/Latino', 'Gunshot'), ('Black', 'Gunshot'), ('Black', 'Gunshot'), ('Black', 'Gunshot'), ('Black', 'Gunshot'), ('White', 'Gunshot'), ('White', 'Gunshot'), ('White', 'Gunshot'), ('White', 'Gunshot'), ('Black', 'Gunshot'), ('Black', 'Death in custody'), ('White', 'Gunshot'), ('White', 'Gunshot'), ('White', 'Gunshot'), ('White', 'Gunshot'), ('White', 'Gunshot'), ('Black', 'Gunshot'), ('White', 'Gunshot'), ('White', 'Gunshot'), ('White', 'Gunshot'), ('White', 'Taser'), ('White', 'Gunshot'), ('White', 'Gunshot'), ('White', 'Gunshot'), ('White', 'Gunshot'), ('White', 'Gunshot'), ('Hispanic/Latino', 'Gunshot'), ('White', 'Gunshot'), ('Hispanic/Latino', 'Gunshot'), ('White', 'Gunshot'), ('Black', 'Gunshot'), ('White', 'Death in custody'), ('Black', 'Gunshot'), ('Black', 'Taser'), ('White', 'Gunshot'), ('White', 'Gunshot'), ('White', 'Gunshot'), ('Black', 'Gunshot'), ('White', 'Gunshot'), ('Black', 'Gunshot'), ('White', 'Gunshot'), ('Black', 'Taser'), ('Black', 'Gunshot'), ('Hispanic/Latino', 'Gunshot'), ('Hispanic/Latino', 'Gunshot'), ('White', 'Gunshot'), ('Black', 'Gunshot'), ('White', 'Gunshot'), ('White', 'Gunshot'), ('Hispanic/Latino', 'Gunshot'), ('White', 'Gunshot'), ('White', 'Gunshot'), ('Hispanic/Latino', 'Gunshot'), ('Black', 'Gunshot'), ('Black', 'Death in custody'), ('White', 'Gunshot'), ('White', 'Gunshot'), ('White', 'Taser'), ('White', 'Gunshot'), ('Black', 'Gunshot'), ('White', 'Gunshot'), ('White', 'Gunshot'), ('Hispanic/Latino', 'Gunshot'), ('Black', 'Taser'), ('White', 'Gunshot'), ('White', 'Gunshot'), ('Black', 'Gunshot'), ('Black', 'Gunshot'), ('White', 'Gunshot'), ('White', 'Gunshot'), ('White', 'Gunshot'), ('White', 'Gunshot'), ('White', 'Gunshot'), ('White', 'Gunshot'), ('White', 'Gunshot'), ('White', 'Gunshot'), ('Black', 'Gunshot'), ('Hispanic/Latino', 'Gunshot'), ('Hispanic/Latino', 'Gunshot'), ('White', 'Gunshot'), ('Black', 'Gunshot'), ('Hispanic/Latino', 'Gunshot'), ('Black', 'Gunshot'), ('Black', 'Gunshot'), ('White', 'Gunshot'), ('Hispanic/Latino', 'Gunshot'), ('White', 'Death in custody'), ('White', 'Gunshot'), ('Hispanic/Latino', 'Gunshot'), ('Hispanic/Latino', 'Gunshot'), ('Hispanic/Latino', 'Gunshot'), ('Black', 'Gunshot'), ('Hispanic/Latino', 'Gunshot'), ('White', 'Gunshot'), ('White', 'Gunshot'), ('White', 'Gunshot'), ('Hispanic/Latino', 'Gunshot'), ('White', 'Gunshot'), ('Black', 'Gunshot'), ('White', 'Gunshot'), ('White', 'Gunshot'), ('White', 'Gunshot'), ('Black', 'Gunshot'), ('White', 'Gunshot'), ('White', 'Gunshot'), ('White', 'Gunshot'), ('White', 'Taser'), ('White', 'Gunshot'), ('White', 'Gunshot'), ('Black', 'Gunshot'), ('Black', 'Gunshot'), ('Black', 'Taser'), ('Black', 'Gunshot'), ('Black', 'Taser'), ('Black', 'Gunshot'), ('Black', 'Gunshot'), ('Black', 'Gunshot'), ('Black', 'Gunshot'), ('White', 'Gunshot'), ('Black', 'Gunshot'), ('White', 'Gunshot'), ('White', 'Gunshot'), ('White', 'Gunshot'), ('Black', 'Gunshot'), ('White', 'Gunshot'), ('Black', 'Gunshot'), ('White', 'Taser'), ('White', 'Gunshot'), ('White', 'Gunshot'), ('White', 'Gunshot'), ('Black', 'Gunshot'), ('White', 'Gunshot'), ('White', 'Gunshot'), ('Hispanic/Latino', 'Gunshot'), ('Hispanic/Latino', 'Gunshot'), ('White', 'Gunshot'), ('Black', 'Gunshot'), ('Black', 'Gunshot'), ('White', 'Gunshot'), ('Hispanic/Latino', 'Taser'), ('White', 'Gunshot'), ('Black', 'Gunshot'), ('White', 'Gunshot'), ('Black', 'Gunshot')]"
   ]
  },
  {
   "cell_type": "markdown",
   "metadata": {},
   "source": [
    "## Exercise 1\n",
    "\n",
    "We look at three ethnicities here, namely black, white, and hispanic/latino. These three are not equally distributed. Collect counts and compute the probability that a randomly drawn case has a certain ethnicity."
   ]
  },
  {
   "cell_type": "code",
   "execution_count": 22,
   "metadata": {
    "collapsed": false
   },
   "outputs": [
    {
     "name": "stdout",
     "output_type": "stream",
     "text": [
      "{'White': 227, 'Black': 131, 'Hispanic/Latino': 66}\n",
      "{'White': 0.535377358490566, 'Black': 0.3089622641509434, 'Hispanic/Latino': 0.15566037735849056}\n"
     ]
    }
   ],
   "source": [
    "prob_ethnicity={}\n",
    "count_ethnicity={} \n",
    "for (e,c) in sample:\n",
    "    count_ethnicity[e] = count_ethnicity.get(e,0)+1\n",
    "for e in counts.keys():\n",
    "    prob_ethnicity[e] = count_ethnicity[e]/len(sample)\n",
    "print(counts)\n",
    "print(prob_ethnicity)"
   ]
  },
  {
   "cell_type": "markdown",
   "metadata": {},
   "source": [
    "##Exercise 2\n",
    "The three ethnicities seem to differ in the causes of death. I.e., knowing a victim's ethnicity can give us probabilities for the causes of death, i.e., \n",
    "\n",
    "$$P(cause|ethnicity)$$\n",
    "\n",
    "If you know that a victim was \"Hispanic/Latino\", what is the probability that s/he was shot?\n",
    "\n",
    "- Draw a tree diagram\n",
    "- Collect the necessary counts\n",
    "- Compute the probability"
   ]
  },
  {
   "cell_type": "code",
   "execution_count": 21,
   "metadata": {
    "collapsed": false
   },
   "outputs": [
    {
     "name": "stdout",
     "output_type": "stream",
     "text": [
      "{'Gunshot': 0.9696969696969697, 'Taser': 0.015151515151515152, 'Death in custody': 0.015151515151515152}\n"
     ]
    },
    {
     "data": {
      "text/plain": [
       "[('Gunshot', 0.9696969696969697),\n",
       " ('Taser', 0.015151515151515152),\n",
       " ('Death in custody', 0.015151515151515152)]"
      ]
     },
     "execution_count": 21,
     "metadata": {},
     "output_type": "execute_result"
    }
   ],
   "source": [
    "count={}\n",
    "total=0\n",
    "for (e,c) in sample:\n",
    "    if e == \"Hispanic/Latino\":\n",
    "        count[c] = count.get(c,0) + 1\n",
    "        total+=1\n",
    "for c in count:\n",
    "    count[c] = count[c]/total\n",
    "print(count)\n",
    "\n",
    "\n",
    "###\n",
    "from collections import Counter\n",
    "c = Counter([x[1] for x in sample if x[0]=='Hispanic/Latino'])\n",
    "t = sum(c.values())\n",
    "[(k, f/t) for k,f in c.items()]"
   ]
  },
  {
   "cell_type": "markdown",
   "metadata": {},
   "source": [
    "##Exercise 2\n",
    "Conversely, knowing how somebody died can inform our guess as to the person's ethnicity, i.e.,\n",
    "\n",
    "$$P(ethnicity|cause)$$\n",
    "\n",
    "Knowing the cause of death was 'Taser', what is the probability of the victim being black?\n",
    "\n",
    "- Draw a tree diagram\n",
    "- Collect the necessary counts\n",
    "- Compute the probability\n",
    "\n",
    "*Extra credit*: Since the proportion of ethnicities is skewed, the result is biased (even though the tendency is still the same). Can you normalize for the total number of people for each group before computing the conditional probabilities?"
   ]
  },
  {
   "cell_type": "code",
   "execution_count": 5,
   "metadata": {
    "collapsed": false
   },
   "outputs": [
    {
     "name": "stdout",
     "output_type": "stream",
     "text": [
      "Counter({'White': 227, 'Black': 131, 'Hispanic/Latino': 66})\n",
      "Counter({'Black': 13, 'White': 9, 'Hispanic/Latino': 1})\n",
      "Counter({'Black': 13, 'White': 9, 'Hispanic/Latino': 1})\n"
     ]
    },
    {
     "data": {
      "text/plain": [
       "[('White', 0.391304347826087),\n",
       " ('Black', 0.5652173913043478),\n",
       " ('Hispanic/Latino', 0.043478260869565216)]"
      ]
     },
     "execution_count": 5,
     "metadata": {},
     "output_type": "execute_result"
    }
   ],
   "source": [
    "\n",
    "\n",
    "\n",
    "#### more advanced solution\n",
    "e = Counter([x[0] for x in sample])\n",
    "print(e)\n",
    "c = Counter([x[0] for x in sample if x[1]=='Taser'])\n",
    "print(c)\n",
    "# for k in c.keys():\n",
    "#     c[k] /= e[k]\n",
    "t = sum(c.values())\n",
    "print(c)\n",
    "[(k, f/t) for k,f in c.items()]"
   ]
  },
  {
   "cell_type": "code",
   "execution_count": null,
   "metadata": {
    "collapsed": true
   },
   "outputs": [],
   "source": []
  }
 ],
 "metadata": {
  "kernelspec": {
   "display_name": "Python 3",
   "language": "python",
   "name": "python3"
  },
  "language_info": {
   "codemirror_mode": {
    "name": "ipython",
    "version": 3
   },
   "file_extension": ".py",
   "mimetype": "text/x-python",
   "name": "python",
   "nbconvert_exporter": "python",
   "pygments_lexer": "ipython3",
   "version": "3.3.5"
  }
 },
 "nbformat": 4,
 "nbformat_minor": 0
}
