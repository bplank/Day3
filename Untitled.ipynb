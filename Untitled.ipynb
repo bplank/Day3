{
 "cells": [
  {
   "cell_type": "code",
   "execution_count": 11,
   "metadata": {
    "collapsed": false
   },
   "outputs": [],
   "source": [
    "%matplotlib inline\n",
    "import pandas as pd\n",
    "import numpy as np\n",
    "from collections import defaultdict"
   ]
  },
  {
   "cell_type": "code",
   "execution_count": 37,
   "metadata": {
    "collapsed": false
   },
   "outputs": [
    {
     "name": "stdout",
     "output_type": "stream",
     "text": [
      "APPLE_FRAME ['BRIDGE', 'BUILDING']\n",
      "AURORA_BOREALIS ['NIGHT']\n",
      "BARN ['FENCE', 'PATH', 'STRUCTURE', 'WINDMILL']\n",
      "BEACH ['CLIFF', 'CLOUDS', 'OCEAN', 'PALM_TREES', 'ROCKS', 'WAVES']\n",
      "BOAT ['DOCK']\n",
      "BRIDGE ['APPLE_FRAME', 'BUILDING', 'STRUCTURE']\n",
      "BUILDING ['APPLE_FRAME', 'BRIDGE']\n",
      "BUSHES ['TREE', 'TREES']\n",
      "CABIN ['SNOW', 'STRUCTURE', 'WINTER']\n",
      "CACTUS ['PATH']\n",
      "CIRCLE_FRAME []\n",
      "CIRRUS ['CLOUDS']\n",
      "CLIFF ['BEACH', 'LIGHTHOUSE', 'OCEAN', 'ROCKS', 'WAVES']\n",
      "CLOUDS ['BEACH', 'CIRRUS', 'CUMULUS', 'OCEAN', 'WAVES']\n",
      "CONIFER ['MOUNTAIN', 'MOUNTAINS', 'SNOW', 'SNOWY_MOUNTAIN', 'TREE', 'TREES', 'WINTER']\n",
      "CUMULUS ['CLOUDS', 'WAVES']\n",
      "DECIDUOUS ['TREE', 'TREES']\n",
      "DIANE_ANDRE ['GUEST']\n",
      "DOCK ['BOAT']\n",
      "DOUBLE_OVAL_FRAME []\n",
      "FARM []\n",
      "FENCE ['BARN', 'STRUCTURE']\n",
      "FIRE ['PERSON']\n",
      "FLORIDA_FRAME ['PALM_TREES']\n",
      "FLOWERS ['GUEST']\n",
      "FOG ['TOMB_FRAME']\n",
      "FRAMED ['OVAL_FRAME']\n",
      "GRASS []\n",
      "GUEST ['DIANE_ANDRE', 'FLOWERS', 'PORTRAIT', 'STEVE_ROSS']\n",
      "HALF_CIRCLE_FRAME []\n",
      "HALF_OVAL_FRAME []\n",
      "HILLS []\n",
      "LAKE ['MOUNTAIN', 'SNOWY_MOUNTAIN', 'TREE', 'TREES']\n",
      "LAKES []\n",
      "LIGHTHOUSE ['CLIFF', 'NIGHT']\n",
      "MILL []\n",
      "MOON ['NIGHT']\n",
      "MOUNTAIN ['CONIFER', 'LAKE', 'MOUNTAINS', 'SNOWY_MOUNTAIN', 'TREE']\n",
      "MOUNTAINS ['CONIFER', 'MOUNTAIN', 'SNOWY_MOUNTAIN']\n",
      "NIGHT ['AURORA_BOREALIS', 'LIGHTHOUSE', 'MOON']\n",
      "OCEAN ['BEACH', 'CLIFF', 'CLOUDS', 'PALM_TREES', 'ROCKS', 'SUN', 'WAVES']\n",
      "OVAL_FRAME ['FRAMED']\n",
      "PALM_TREES ['BEACH', 'FLORIDA_FRAME', 'OCEAN', 'SEASHELL_FRAME', 'WAVES']\n",
      "PATH ['BARN', 'CACTUS', 'STRUCTURE']\n",
      "PERSON ['FIRE']\n",
      "PORTRAIT ['GUEST']\n",
      "RECTANGLE_3D_FRAME []\n",
      "RECTANGULAR_FRAME []\n",
      "RIVER ['TREE', 'TREES', 'WATERFALL']\n",
      "ROCKS ['BEACH', 'CLIFF', 'OCEAN', 'WAVES']\n",
      "SEASHELL_FRAME ['PALM_TREES']\n",
      "SNOW ['CABIN', 'CONIFER', 'STRUCTURE', 'WINTER']\n",
      "SNOWY_MOUNTAIN ['CONIFER', 'LAKE', 'MOUNTAIN', 'MOUNTAINS']\n",
      "SPLIT_FRAME []\n",
      "STEVE_ROSS ['GUEST']\n",
      "STRUCTURE ['BARN', 'BRIDGE', 'CABIN', 'FENCE', 'PATH', 'SNOW', 'WINTER']\n",
      "SUN ['OCEAN']\n",
      "TOMB_FRAME ['FOG']\n",
      "TREE ['BUSHES', 'CONIFER', 'DECIDUOUS', 'LAKE', 'MOUNTAIN', 'RIVER', 'TREES']\n",
      "TREES ['BUSHES', 'CONIFER', 'DECIDUOUS', 'LAKE', 'RIVER', 'TREE']\n",
      "TRIPLE_FRAME []\n",
      "WATERFALL ['RIVER']\n",
      "WAVES ['BEACH', 'CLIFF', 'CLOUDS', 'CUMULUS', 'OCEAN', 'PALM_TREES', 'ROCKS']\n",
      "WINDMILL ['BARN']\n",
      "WINDOW_FRAME []\n",
      "WINTER ['CABIN', 'CONIFER', 'SNOW', 'STRUCTURE']\n",
      "WOOD_FRAMED []\n"
     ]
    }
   ],
   "source": [
    "data = pd.read_csv('/Users/dirkhovy/data/data/bob-ross/elements-by-episode.csv')\n",
    "\n",
    "c = defaultdict(int)\n",
    "entries, headers = data.shape\n",
    "\n",
    "c = data.corr()\n",
    "\n",
    "for entry in c.columns:\n",
    "    on = [x for x in c.columns if (data.corr() > 0.2)[entry][x] and x != entry]\n",
    "    print(entry, on)"
   ]
  },
  {
   "cell_type": "code",
   "execution_count": 59,
   "metadata": {
    "collapsed": false
   },
   "outputs": [
    {
     "name": "stdout",
     "output_type": "stream",
     "text": [
      "LAKE: 143\n",
      "142\n",
      "81\n",
      "RIVER: 126\n",
      "126\n",
      "49\n"
     ]
    }
   ],
   "source": [
    "for given in ['LAKE', 'RIVER']:\n",
    "    print('%s: %s' % (given, len(data[given].nonzero()[0])))\n",
    "    for cond in ['TREE', 'MOUNTAIN']:\n",
    "        print(len(data.ix[data[given].nonzero()][cond].nonzero()[0]))\n",
    "    print\n"
   ]
  },
  {
   "cell_type": "code",
   "execution_count": 92,
   "metadata": {
    "collapsed": false
   },
   "outputs": [
    {
     "data": {
      "text/plain": [
       "<matplotlib.axes._subplots.AxesSubplot at 0x10c110240>"
      ]
     },
     "execution_count": 92,
     "metadata": {},
     "output_type": "execute_result"
    },
    {
     "data": {
      "image/png": "[encoded data removed]",
      "text/plain": [
       "<matplotlib.figure.Figure at 0x10e339048>"
      ]
     },
     "metadata": {},
     "output_type": "display_data"
    }
   ],
   "source": [
    "data = pd.read_csv('/Users/dirkhovy/data/data/drug-use-by-age/drug-use-by-age.csv')\n",
    "# print(data)\n",
    "data['cocaine-use'].plot()\n",
    "data['alcohol-use'].plot()\n",
    "data['marijuana-use'].plot()\n",
    "# ax.set_xticklabels(data.age.values)\n"
   ]
  },
  {
   "cell_type": "code",
   "execution_count": 111,
   "metadata": {
    "collapsed": false
   },
   "outputs": [
    {
     "name": "stdout",
     "output_type": "stream",
     "text": [
      "12: 9\n",
      "13: 21\n",
      "14: 50\n",
      "15: 99\n",
      "16: 123\n",
      "17: 179\n",
      "18: 174\n",
      "19: 182\n",
      "20: 188\n",
      "21: 188\n",
      "22-23: 184\n",
      "24-25: 139\n",
      "26-29: 104\n",
      "30-34: 108\n",
      "35-49: 81\n",
      "50-64: 40\n",
      "65+: 7\n"
     ]
    }
   ],
   "source": [
    "import random\n",
    "from collections import Counter\n",
    "\n",
    "def sample_from(x):\n",
    "    return random.randint(0, 100) < x\n",
    "\n",
    "samples = []\n",
    "values = data.age.values.tolist()\n",
    "for i in range(10000):\n",
    "    x = random.randint(0, len(values)-1)\n",
    "    \n",
    "    if sample_from(data['marijuana-use'][x]):\n",
    "        samples.append(values[x])\n",
    "\n",
    "c = Counter(samples)\n",
    "for k in sorted(c.keys()):\n",
    "    print('%s: %s' % (k, c[k]))"
   ]
  },
  {
   "cell_type": "code",
   "execution_count": 121,
   "metadata": {
    "collapsed": false
   },
   "outputs": [],
   "source": [
    "point_samples = []\n",
    "for i in range(len(values)):\n",
    "     point_samples.extend([values[i]] * int(data['marijuana-use'][i]))\n",
    "# point_samples\n",
    "# values"
   ]
  },
  {
   "cell_type": "code",
   "execution_count": 132,
   "metadata": {
    "collapsed": false
   },
   "outputs": [
    {
     "data": {
      "text/plain": [
       "{'12': 34,\n",
       " '13': 100,\n",
       " '14': 248,\n",
       " '15': 415,\n",
       " '16': 725,\n",
       " '17': 896,\n",
       " '18': 1054,\n",
       " '19': 1038,\n",
       " '20': 1068,\n",
       " '21': 1035,\n",
       " '22-23': 902,\n",
       " '24-25': 800,\n",
       " '26-29': 627,\n",
       " '30-34': 508,\n",
       " '35-49': 311,\n",
       " '50-64': 218,\n",
       " '65+': 38}"
      ]
     },
     "execution_count": 132,
     "metadata": {},
     "output_type": "execute_result"
    }
   ],
   "source": [
    "samples = {}\n",
    "for i in range(10000):\n",
    "    x = random.randint(0, len(point_samples)-1)\n",
    "    age = point_samples[x]\n",
    "    samples[age] = samples.get(age, 1) + 1\n",
    "\n",
    "samples\n",
    "data['new'] = samples\n",
    "data.new"
   ]
  },
  {
   "cell_type": "code",
   "execution_count": null,
   "metadata": {
    "collapsed": true
   },
   "outputs": [],
   "source": []
  }
 ],
 "metadata": {
  "kernelspec": {
   "display_name": "Python 3",
   "language": "python",
   "name": "python3"
  },
  "language_info": {
   "codemirror_mode": {
    "name": "ipython",
    "version": 3
   },
   "file_extension": ".py",
   "mimetype": "text/x-python",
   "name": "python",
   "nbconvert_exporter": "python",
   "pygments_lexer": "ipython3",
   "version": "3.4.3"
  }
 },
 "nbformat": 4,
 "nbformat_minor": 0
}
