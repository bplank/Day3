{
 "cells": [
  {
   "cell_type": "code",
   "execution_count": 67,
   "metadata": {
    "collapsed": false
   },
   "outputs": [
    {
     "data": {
      "text/plain": [
       "Counter({'Firearm': 6, 'No': 4, 'Knife': 3, 'Other': 1})"
      ]
     },
     "execution_count": 67,
     "metadata": {},
     "output_type": "execute_result"
    }
   ],
   "source": [
    "import pandas\n",
    "from collections import Counter\n",
    "df = pandas.read_csv('police_killings_utf8.csv',header=0)\n",
    "df.keys()\n",
    "\n",
    "Counter(df['cause'])\n",
    "Counter(df[df['cause']=='Death in custody']['armed'])"
   ]
  },
  {
   "cell_type": "code",
   "execution_count": 36,
   "metadata": {
    "collapsed": false
   },
   "outputs": [
    {
     "name": "stdout",
     "output_type": "stream",
     "text": [
      "Gunshot\n",
      "Counter({'White': 214, 'Black': 110, 'Hispanic/Latino': 64, 'Unknown': 14, 'Asian/Pacific Islander': 7, 'Native American': 2})\n",
      "\n",
      "Death in custody\n",
      "Counter({'Black': 8, 'White': 4, 'Hispanic/Latino': 1, 'Native American': 1})\n",
      "\n",
      "Taser\n",
      "Counter({'Black': 13, 'White': 9, 'Asian/Pacific Islander': 2, 'Native American': 1, 'Hispanic/Latino': 1, 'Unknown': 1})\n",
      "\n",
      "Struck by vehicle\n",
      "Counter({'White': 8, 'Black': 3, 'Asian/Pacific Islander': 1})\n",
      "\n",
      "Unknown\n",
      "Counter({'White': 1, 'Black': 1, 'Hispanic/Latino': 1})\n",
      "\n"
     ]
    }
   ],
   "source": [
    "for c in df.cause.unique():\n",
    "    print(c)\n",
    "    print(Counter(df[df.cause==c].raceethnicity))\n",
    "    print()"
   ]
  },
  {
   "cell_type": "code",
   "execution_count": 53,
   "metadata": {
    "collapsed": false
   },
   "outputs": [
    {
     "data": {
      "text/plain": [
       "0     True\n",
       "1     True\n",
       "2     True\n",
       "3     True\n",
       "4     True\n",
       "5     True\n",
       "6     True\n",
       "7     True\n",
       "8     True\n",
       "9     True\n",
       "10    True\n",
       "11    True\n",
       "12    True\n",
       "13    True\n",
       "14    True\n",
       "...\n",
       "452    True\n",
       "453    True\n",
       "454    True\n",
       "455    True\n",
       "456    True\n",
       "457    True\n",
       "458    True\n",
       "459    True\n",
       "460    True\n",
       "461    True\n",
       "462    True\n",
       "463    True\n",
       "464    True\n",
       "465    True\n",
       "466    True\n",
       "Name: raceethnicity, Length: 467, dtype: bool"
      ]
     },
     "execution_count": 53,
     "metadata": {},
     "output_type": "execute_result"
    }
   ],
   "source": [
    "df1 = df['raceethnicity'] != 'Asian/Pacific Islander'\n",
    "df1"
   ]
  },
  {
   "cell_type": "code",
   "execution_count": null,
   "metadata": {
    "collapsed": true
   },
   "outputs": [],
   "source": []
  }
 ],
 "metadata": {
  "kernelspec": {
   "display_name": "Python 3",
   "language": "python",
   "name": "python3"
  },
  "language_info": {
   "codemirror_mode": {
    "name": "ipython",
    "version": 3
   },
   "file_extension": ".py",
   "mimetype": "text/x-python",
   "name": "python",
   "nbconvert_exporter": "python",
   "pygments_lexer": "ipython3",
   "version": "3.3.5"
  }
 },
 "nbformat": 4,
 "nbformat_minor": 0
}
